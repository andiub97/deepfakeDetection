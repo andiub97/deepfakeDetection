{
 "cells": [
  {
   "cell_type": "code",
   "execution_count": 1,
   "id": "1a30af60",
   "metadata": {
    "_cell_guid": "b1076dfc-b9ad-4769-8c92-a6c4dae69d19",
    "_uuid": "8f2839f25d086af736a60e9eeb907d3b93b6e0e5",
    "execution": {
     "iopub.execute_input": "2023-03-20T15:13:56.529377Z",
     "iopub.status.busy": "2023-03-20T15:13:56.528868Z",
     "iopub.status.idle": "2023-03-20T15:14:03.228556Z",
     "shell.execute_reply": "2023-03-20T15:14:03.227163Z"
    },
    "papermill": {
     "duration": 6.709865,
     "end_time": "2023-03-20T15:14:03.231386",
     "exception": false,
     "start_time": "2023-03-20T15:13:56.521521",
     "status": "completed"
    },
    "tags": []
   },
   "outputs": [],
   "source": [
    "# Load various imports \n",
    "from datetime import datetime\n",
    "from os import listdir\n",
    "from os.path import isfile, join\n",
    "\n",
    "import keras\n",
    "import librosa\n",
    "import librosa.display\n",
    "\n",
    "import numpy as np\n",
    "import pandas as pd\n",
    "\n",
    "import IPython.display as ipd\n",
    "\n",
    "from tensorflow.keras.models import Sequential\n",
    "from tensorflow.keras.layers import Dense, Dropout, Conv2D, MaxPooling2D, Flatten, GlobalAveragePooling2D\n",
    "from tensorflow.keras.utils import to_categorical\n",
    "from tensorflow.keras.callbacks import ModelCheckpoint\n",
    "from tensorflow.keras import optimizers\n",
    "\n",
    "from sklearn.metrics import confusion_matrix, classification_report, roc_curve, auc\n",
    "from sklearn.model_selection import train_test_split\n",
    "from sklearn.preprocessing import LabelEncoder\n",
    "\n",
    "import matplotlib.pyplot as plt\n",
    "import seaborn as sns\n",
    "import soundfile as sf\n",
    "import gc"
   ]
  },
  {
   "cell_type": "markdown",
   "id": "b2a76581",
   "metadata": {
    "papermill": {
     "duration": 0.004504,
     "end_time": "2023-03-20T15:14:03.240588",
     "exception": false,
     "start_time": "2023-03-20T15:14:03.236084",
     "status": "completed"
    },
    "tags": []
   },
   "source": [
    "### Load \"eval\" dataset for the training phase"
   ]
  },
  {
   "cell_type": "code",
   "execution_count": 2,
   "id": "97423571",
   "metadata": {
    "execution": {
     "iopub.execute_input": "2023-03-20T15:14:03.252997Z",
     "iopub.status.busy": "2023-03-20T15:14:03.250781Z",
     "iopub.status.idle": "2023-03-20T15:14:23.571381Z",
     "shell.execute_reply": "2023-03-20T15:14:23.570289Z"
    },
    "papermill": {
     "duration": 20.329071,
     "end_time": "2023-03-20T15:14:23.574061",
     "exception": false,
     "start_time": "2023-03-20T15:14:03.244990",
     "status": "completed"
    },
    "tags": []
   },
   "outputs": [],
   "source": [
    "features = []\n",
    "labels = []\n",
    "features_p2 = []\n",
    "labels_p2 = []\n",
    "\n",
    "with open('/kaggle/input/dataset-asvspoof/eval_features.npz', 'rb') as f1:\n",
    "    features = np.load(f1)\n",
    "    features = features['a']\n",
    "\n",
    "with open('/kaggle/input/dataset-asvspoof/eval_labels.npz', 'rb') as l1:\n",
    "    labels = np.load(l1)\n",
    "    labels = labels['a']\n",
    "    \n",
    "with open('/kaggle/input/dataset-asvspoof/eval_features_2.npz', 'rb') as f2:\n",
    "    features_p2 = np.load(f2)\n",
    "    features_p2 = features_p2['a']\n",
    "\n",
    "with open('/kaggle/input/dataset-asvspoof/eval_labels_2.npz', 'rb') as l2:\n",
    "    labels_p2 = np.load(l2)\n",
    "    labels_p2 = labels_p2['a']\n",
    "\n",
    "features_final = np.concatenate((features,features_p2))\n",
    "labels_final = np.concatenate((labels,labels_p2))"
   ]
  },
  {
   "cell_type": "code",
   "execution_count": 3,
   "id": "6b571f50",
   "metadata": {
    "execution": {
     "iopub.execute_input": "2023-03-20T15:14:23.585643Z",
     "iopub.status.busy": "2023-03-20T15:14:23.584640Z",
     "iopub.status.idle": "2023-03-20T15:14:24.727753Z",
     "shell.execute_reply": "2023-03-20T15:14:24.726667Z"
    },
    "papermill": {
     "duration": 1.15117,
     "end_time": "2023-03-20T15:14:24.730049",
     "exception": false,
     "start_time": "2023-03-20T15:14:23.578879",
     "status": "completed"
    },
    "tags": []
   },
   "outputs": [
    {
     "data": {
      "image/png": "[encoded data removed]",
      "text/plain": [
       "<Figure size 1000x400 with 2 Axes>"
      ]
     },
     "metadata": {},
     "output_type": "display_data"
    }
   ],
   "source": [
    "import librosa\n",
    "\n",
    "# plot an MFCC\n",
    "plt.figure(figsize=(10, 4))\n",
    "librosa.display.specshow(features_final[0], x_axis='time')\n",
    "plt.colorbar()\n",
    "plt.title('MFCC')\n",
    "plt.tight_layout()\n",
    "plt.show()"
   ]
  },
  {
   "cell_type": "code",
   "execution_count": 4,
   "id": "9a959a21",
   "metadata": {
    "execution": {
     "iopub.execute_input": "2023-03-20T15:14:24.742247Z",
     "iopub.status.busy": "2023-03-20T15:14:24.740694Z"
    },
    "papermill": {
     "duration": 6.036793,
     "end_time": "2023-03-20T15:14:30.771736",
     "exception": false,
     "start_time": "2023-03-20T15:14:24.734943",
     "status": "completed"
    },
    "tags": []
   },
   "outputs": [],
   "source": [
    "features_final = np.array(features_final)\n",
    "labels_final = np.array(labels_final)\n",
    "print(len(features_final))\n",
    "print(len(labels_final))"
   ]
  },
  {
   "cell_type": "code",
   "execution_count": null,
   "id": "9e575089",
   "metadata": {
    "execution": {
     "iopub.status.busy": "2023-03-20T14:33:46.115680Z",
     "iopub.status.idle": "2023-03-20T14:33:46.116507Z",
     "shell.execute_reply": "2023-03-20T14:33:46.116275Z",
     "shell.execute_reply.started": "2023-03-20T14:33:46.116248Z"
    },
    "papermill": {
     "duration": null,
     "end_time": null,
     "exception": null,
     "start_time": null,
     "status": "completed"
    },
    "tags": []
   },
   "outputs": [],
   "source": [
    "# add channel dimension for CNN\n",
    "features_final = np.reshape(features_final, (*features_final.shape,1))\n",
    "#label_list = np.reshape(label_list, (*label_list.shape,1)) "
   ]
  },
  {
   "cell_type": "code",
   "execution_count": null,
   "id": "61dbe8b6",
   "metadata": {
    "execution": {
     "iopub.status.busy": "2023-03-20T14:33:46.118013Z",
     "iopub.status.idle": "2023-03-20T14:33:46.118883Z",
     "shell.execute_reply": "2023-03-20T14:33:46.118655Z",
     "shell.execute_reply.started": "2023-03-20T14:33:46.118628Z"
    },
    "papermill": {
     "duration": null,
     "end_time": null,
     "exception": null,
     "start_time": null,
     "status": "completed"
    },
    "tags": []
   },
   "outputs": [],
   "source": [
    "# train test split\n",
    "x_train, x_test, y_train, y_test = train_test_split(features_final, labels_final, stratify=labels_final, test_size=0.2, random_state = 42)"
   ]
  },
  {
   "cell_type": "markdown",
   "id": "d3460822",
   "metadata": {
    "papermill": {
     "duration": null,
     "end_time": null,
     "exception": null,
     "start_time": null,
     "status": "completed"
    },
    "tags": []
   },
   "source": [
    "### Instantiate Model vars"
   ]
  },
  {
   "cell_type": "code",
   "execution_count": null,
   "id": "cac7e81d",
   "metadata": {
    "execution": {
     "iopub.status.busy": "2023-03-20T14:33:46.120396Z",
     "iopub.status.idle": "2023-03-20T14:33:46.121266Z",
     "shell.execute_reply": "2023-03-20T14:33:46.121036Z",
     "shell.execute_reply.started": "2023-03-20T14:33:46.121009Z"
    },
    "papermill": {
     "duration": null,
     "end_time": null,
     "exception": null,
     "start_time": null,
     "status": "completed"
    },
    "tags": []
   },
   "outputs": [],
   "source": [
    "print(features_final.shape)\n",
    "print(labels_final.shape)"
   ]
  },
  {
   "cell_type": "code",
   "execution_count": null,
   "id": "a5c63f37",
   "metadata": {
    "execution": {
     "iopub.status.busy": "2023-03-20T14:33:46.122828Z",
     "iopub.status.idle": "2023-03-20T14:33:46.123706Z",
     "shell.execute_reply": "2023-03-20T14:33:46.123447Z",
     "shell.execute_reply.started": "2023-03-20T14:33:46.123416Z"
    },
    "papermill": {
     "duration": null,
     "end_time": null,
     "exception": null,
     "start_time": null,
     "status": "completed"
    },
    "tags": []
   },
   "outputs": [],
   "source": [
    "# ORIGINAL\n",
    "num_rows = 20\n",
    "num_columns = 862\n",
    "num_channels = 1\n",
    "\n",
    "num_labels = labels_final.shape[1]\n",
    "print(num_labels)\n",
    "filter_size = 2\n",
    "\n",
    "model = Sequential()\n",
    "model.add(Conv2D(32, kernel_size=(2, 2), activation='relu', input_shape=(num_rows, num_columns, num_channels)))\n",
    "model.add(Conv2D(48, kernel_size=(2, 2), activation='relu'))\n",
    "model.add(Conv2D(120, kernel_size=(2, 2), activation='relu'))\n",
    "model.add(MaxPooling2D(pool_size=(2, 2)))\n",
    "model.add(Dropout(0.25))\n",
    "model.add(Flatten())\n",
    "model.add(Dense(128, activation='relu'))\n",
    "model.add(Dropout(0.25))\n",
    "model.add(Dense(64, activation='relu'))\n",
    "model.add(Dropout(0.4))\n",
    "model.add(Dense(num_labels, activation='softmax'))"
   ]
  },
  {
   "cell_type": "markdown",
   "id": "e745279e",
   "metadata": {
    "papermill": {
     "duration": null,
     "end_time": null,
     "exception": null,
     "start_time": null,
     "status": "completed"
    },
    "tags": []
   },
   "source": [
    "### Fit the model"
   ]
  },
  {
   "cell_type": "code",
   "execution_count": null,
   "id": "d73bb1bf",
   "metadata": {
    "execution": {
     "iopub.status.busy": "2023-03-20T14:33:46.125289Z",
     "iopub.status.idle": "2023-03-20T14:33:46.126196Z",
     "shell.execute_reply": "2023-03-20T14:33:46.125934Z",
     "shell.execute_reply.started": "2023-03-20T14:33:46.125907Z"
    },
    "papermill": {
     "duration": null,
     "end_time": null,
     "exception": null,
     "start_time": null,
     "status": "completed"
    },
    "tags": []
   },
   "outputs": [],
   "source": [
    "# Compile the model\n",
    "# Train standard\n",
    "epochs = 70\n",
    "batch_size = 100\n",
    "verbose = 1\n",
    "#optimizer = optimizers.SGD(lr=0.002, decay=1e-6, momentum=0.9, nesterov=True)\n",
    "optimizer = optimizers.Adagrad(\n",
    "    learning_rate=0.001,\n",
    "    initial_accumulator_value=0.1,\n",
    "    epsilon=1e-07,\n",
    "    weight_decay=None,\n",
    "    clipnorm=None,\n",
    "    clipvalue=None,\n",
    "    global_clipnorm=None,\n",
    "    use_ema=False,\n",
    "    ema_momentum=0.99,\n",
    "    ema_overwrite_frequency=None,\n",
    "    jit_compile=True,\n",
    ")\n",
    "\n",
    "\n",
    "model.compile(loss=keras.losses.categorical_crossentropy,\n",
    "              optimizer=optimizer,\n",
    "              metrics=['accuracy'])\n",
    "#model.fit(x_train, y_train, batch_size=batch_size, epochs=epochs, verbose=verbose, validation_data=(x_test, y_test))\n",
    "\n",
    "\n",
    "callbacks = [\n",
    "    ModelCheckpoint(\n",
    "        filepath='mymodel2_{epoch:02d}.h5',\n",
    "        # Path where to save the model\n",
    "        # The two parameters below mean that we will overwrite\n",
    "        # the current checkpoint if and only if\n",
    "        # the `val_accuracy` score has improved.\n",
    "        save_best_only=True,\n",
    "        monitor='val_accuracy',\n",
    "        verbose=1)\n",
    "]\n",
    "\n",
    "model.fit(x_train, y_train, batch_size=batch_size,verbose=verbose, epochs=epochs,validation_data=(x_test, y_test), callbacks=callbacks)\n"
   ]
  },
  {
   "cell_type": "code",
   "execution_count": null,
   "id": "112cb003",
   "metadata": {
    "execution": {
     "iopub.status.busy": "2023-03-20T14:33:46.127795Z",
     "iopub.status.idle": "2023-03-20T14:33:46.128703Z",
     "shell.execute_reply": "2023-03-20T14:33:46.128422Z",
     "shell.execute_reply.started": "2023-03-20T14:33:46.128394Z"
    },
    "papermill": {
     "duration": null,
     "end_time": null,
     "exception": null,
     "start_time": null,
     "status": "completed"
    },
    "tags": []
   },
   "outputs": [],
   "source": [
    "# Display model architecture summary \n",
    "model.summary()\n",
    "\n",
    "# Calculate pre-training accuracy \n",
    "score = model.evaluate(x_test, y_test, verbose=1)\n",
    "accuracy = 100*score[1]\n",
    "\n",
    "print(\"Pre-training accuracy: %.4f%%\" % accuracy)"
   ]
  },
  {
   "cell_type": "markdown",
   "id": "fcd6b995",
   "metadata": {
    "papermill": {
     "duration": null,
     "end_time": null,
     "exception": null,
     "start_time": null,
     "status": "completed"
    },
    "tags": []
   },
   "source": [
    "### Test model with the Dataset used for the training phase"
   ]
  },
  {
   "cell_type": "code",
   "execution_count": null,
   "id": "aad6b588",
   "metadata": {
    "execution": {
     "iopub.status.busy": "2023-03-20T14:33:46.130270Z",
     "iopub.status.idle": "2023-03-20T14:33:46.131157Z",
     "shell.execute_reply": "2023-03-20T14:33:46.130893Z",
     "shell.execute_reply.started": "2023-03-20T14:33:46.130866Z"
    },
    "papermill": {
     "duration": null,
     "end_time": null,
     "exception": null,
     "start_time": null,
     "status": "completed"
    },
    "tags": []
   },
   "outputs": [],
   "source": [
    "from keras.models import load_model\n",
    "model = load_model('/kaggle/working/mymodel2_59.h5')"
   ]
  },
  {
   "cell_type": "code",
   "execution_count": null,
   "id": "eaa7cef1",
   "metadata": {
    "execution": {
     "iopub.status.busy": "2023-03-20T14:33:46.133051Z",
     "iopub.status.idle": "2023-03-20T14:33:46.133910Z",
     "shell.execute_reply": "2023-03-20T14:33:46.133683Z",
     "shell.execute_reply.started": "2023-03-20T14:33:46.133656Z"
    },
    "papermill": {
     "duration": null,
     "end_time": null,
     "exception": null,
     "start_time": null,
     "status": "completed"
    },
    "tags": []
   },
   "outputs": [],
   "source": [
    "score = model.evaluate(x_train, y_train, verbose=0)\n",
    "print(\"Training Accuracy: \", score[1])\n",
    "\n",
    "score = model.evaluate(x_test, y_test, verbose=0)\n",
    "print(\"Testing Accuracy: \", score[1])"
   ]
  },
  {
   "cell_type": "code",
   "execution_count": null,
   "id": "237e5a8c",
   "metadata": {
    "execution": {
     "iopub.status.busy": "2023-03-20T14:33:46.135476Z",
     "iopub.status.idle": "2023-03-20T14:33:46.136379Z",
     "shell.execute_reply": "2023-03-20T14:33:46.136132Z",
     "shell.execute_reply.started": "2023-03-20T14:33:46.136106Z"
    },
    "papermill": {
     "duration": null,
     "end_time": null,
     "exception": null,
     "start_time": null,
     "status": "completed"
    },
    "tags": []
   },
   "outputs": [],
   "source": [
    "preds = model.predict(x_test) # label scores \n",
    "\n",
    "classpreds = np.argmax(preds, axis=1) # predicted classes \n",
    "print(classpreds)\n",
    "print(\"----------------------------\")\n",
    "y_testclass = np.argmax(y_test, axis=1) # true classes\n",
    "print(y_testclass)\n",
    "\n",
    "n_classes=2 # number of classes"
   ]
  },
  {
   "cell_type": "code",
   "execution_count": null,
   "id": "9892c28c",
   "metadata": {
    "execution": {
     "iopub.status.busy": "2023-03-20T14:33:46.137925Z",
     "iopub.status.idle": "2023-03-20T14:33:46.138803Z",
     "shell.execute_reply": "2023-03-20T14:33:46.138550Z",
     "shell.execute_reply.started": "2023-03-20T14:33:46.138523Z"
    },
    "papermill": {
     "duration": null,
     "end_time": null,
     "exception": null,
     "start_time": null,
     "status": "completed"
    },
    "tags": []
   },
   "outputs": [],
   "source": [
    "c_names = ['bonafide', 'fake']"
   ]
  },
  {
   "cell_type": "code",
   "execution_count": null,
   "id": "e5753119",
   "metadata": {
    "execution": {
     "iopub.status.busy": "2023-03-20T14:33:46.140245Z",
     "iopub.status.idle": "2023-03-20T14:33:46.141165Z",
     "shell.execute_reply": "2023-03-20T14:33:46.140902Z",
     "shell.execute_reply.started": "2023-03-20T14:33:46.140876Z"
    },
    "papermill": {
     "duration": null,
     "end_time": null,
     "exception": null,
     "start_time": null,
     "status": "completed"
    },
    "tags": []
   },
   "outputs": [],
   "source": [
    "print(classification_report(y_testclass, classpreds, target_names=c_names))"
   ]
  },
  {
   "cell_type": "markdown",
   "id": "f87be91b",
   "metadata": {
    "papermill": {
     "duration": null,
     "end_time": null,
     "exception": null,
     "start_time": null,
     "status": "completed"
    },
    "tags": []
   },
   "source": [
    "### Open \"Train\" for the Evaluation\n"
   ]
  },
  {
   "cell_type": "code",
   "execution_count": null,
   "id": "451f834f",
   "metadata": {
    "execution": {
     "iopub.status.busy": "2023-03-20T14:33:46.142680Z",
     "iopub.status.idle": "2023-03-20T14:33:46.143563Z",
     "shell.execute_reply": "2023-03-20T14:33:46.143315Z",
     "shell.execute_reply.started": "2023-03-20T14:33:46.143284Z"
    },
    "papermill": {
     "duration": null,
     "end_time": null,
     "exception": null,
     "start_time": null,
     "status": "completed"
    },
    "tags": []
   },
   "outputs": [],
   "source": [
    "with open('./eval_features.npz', 'rb') as f:\n",
    "    features = np.load(f)\n",
    "    print(features['a'])\n",
    "\n",
    "with open('./eval_labels.npz', 'rb') as l:\n",
    "    labels = np.load(l)\n",
    "    print(labels['a'])"
   ]
  },
  {
   "cell_type": "code",
   "execution_count": null,
   "id": "32e0faa2",
   "metadata": {
    "execution": {
     "iopub.status.busy": "2023-03-20T14:33:46.145110Z",
     "iopub.status.idle": "2023-03-20T14:33:46.145982Z",
     "shell.execute_reply": "2023-03-20T14:33:46.145727Z",
     "shell.execute_reply.started": "2023-03-20T14:33:46.145699Z"
    },
    "papermill": {
     "duration": null,
     "end_time": null,
     "exception": null,
     "start_time": null,
     "status": "completed"
    },
    "tags": []
   },
   "outputs": [],
   "source": [
    "sub = pd.read_csv(\"../input/sample_submission.csv\")\n",
    "\n",
    "for index, row in tqdm(sub.iterrows()):\n",
    "    wave, sr = librosa.load(TEST + row[\"fname\"], mono=True, sr=None)\n",
    "    wave = wave[::2]\n",
    "    \n",
    "    mfcc = wav2mfcc(wave)\n",
    "    X_test = mfcc.reshape(1, feature_dim_1, feature_dim_2, channel)\n",
    "    preds = model.predict(X_test)[0]\n",
    "    \n",
    "    for i, col in enumerate(target_labels):\n",
    "        sub.loc[index, col] = preds[i]"
   ]
  }
 ],
 "metadata": {
  "kernelspec": {
   "display_name": "Python 3",
   "language": "python",
   "name": "python3"
  },
  "language_info": {
   "codemirror_mode": {
    "name": "ipython",
    "version": 3
   },
   "file_extension": ".py",
   "mimetype": "text/x-python",
   "name": "python",
   "nbconvert_exporter": "python",
   "pygments_lexer": "ipython3",
   "version": "3.6.4"
  },
  "papermill": {
   "default_parameters": {},
   "duration": 42.593581,
   "end_time": "2023-03-20T15:14:30.796537",
   "environment_variables": {},
   "exception": null,
   "input_path": "__notebook__.ipynb",
   "output_path": "__notebook__.ipynb",
   "parameters": {},
   "start_time": "2023-03-20T15:13:48.202956",
   "version": "2.4.0"
  }
 },
 "nbformat": 4,
 "nbformat_minor": 5
}
